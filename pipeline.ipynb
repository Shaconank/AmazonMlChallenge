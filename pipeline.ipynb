{
 "cells": [
  {
   "cell_type": "markdown",
   "metadata": {},
   "source": [
    "## **ENTITY VALUE EXTRACTION**"
   ]
  },
  {
   "cell_type": "markdown",
   "metadata": {},
   "source": [
    "### 0. SETTING UP"
   ]
  },
  {
   "cell_type": "code",
   "execution_count": 8,
   "metadata": {},
   "outputs": [],
   "source": [
    "import os\n",
    "import cv2"
   ]
  },
  {
   "cell_type": "code",
   "execution_count": 9,
   "metadata": {},
   "outputs": [],
   "source": [
    "# DATABASE LOCATION\n",
    "dataset_path = \"data/\"\n",
    "\n",
    "train_path = dataset_path + \"train.csv\"\n",
    "test_path = dataset_path + \"test.csv\"\n",
    "sample_test_path = dataset_path + \"sample_test.csv\""
   ]
  },
  {
   "cell_type": "code",
   "execution_count": 10,
   "metadata": {},
   "outputs": [],
   "source": [
    "# test if paths exist\n",
    "import os\n",
    "\n",
    "for path in [train_path, test_path, sample_test_path]:\n",
    "    if not os.path.exists(path):\n",
    "        print(f\"Missing CSV File: {path}\")"
   ]
  },
  {
   "cell_type": "markdown",
   "metadata": {},
   "source": [
    "### 1. HELPER FUNCTIONS"
   ]
  },
  {
   "cell_type": "code",
   "execution_count": 67,
   "metadata": {},
   "outputs": [],
   "source": [
    "def display_image(image):\n",
    "    plt.figure(figsize = (10, 5))\n",
    "    plt.imshow(image)\n",
    "    plt.axis('off')\n",
    "    plt.show()"
   ]
  },
  {
   "cell_type": "code",
   "execution_count": 87,
   "metadata": {},
   "outputs": [],
   "source": [
    "def find_all_indices(s, substring):\n",
    "    pattern = re.compile(re.escape(substring))\n",
    "    matches = pattern.finditer(s)\n",
    "    return [match.start() for match in matches]"
   ]
  },
  {
   "cell_type": "markdown",
   "metadata": {},
   "source": [
    "### 2. TRAINING"
   ]
  },
  {
   "cell_type": "code",
   "execution_count": 12,
   "metadata": {},
   "outputs": [],
   "source": [
    "import re\n",
    "from PIL import Image\n",
    "import matplotlib.pyplot as plt\n",
    "\n",
    "from paddleocr import PaddleOCR, draw_ocr\n",
    "\n",
    "from constants import unit_variations, entity_unit_map"
   ]
  },
  {
   "cell_type": "code",
   "execution_count": 124,
   "metadata": {},
   "outputs": [],
   "source": [
    "image_path = dataset_path + \"special_images/image_2.jpg\"\n",
    "image_entity = \"item_weight\"\n",
    "font_path = \"fonts/latin.ttf\""
   ]
  },
  {
   "cell_type": "markdown",
   "metadata": {},
   "source": [
    "#### (i) PREPROCESSING"
   ]
  },
  {
   "cell_type": "code",
   "execution_count": 141,
   "metadata": {},
   "outputs": [],
   "source": [
    "image = cv2.imread(image_path)"
   ]
  },
  {
   "cell_type": "code",
   "execution_count": 142,
   "metadata": {},
   "outputs": [],
   "source": [
    "def preprocess_image(image):\n",
    "    pre_image = cv2.cvtColor(image, cv2.COLOR_BGR2RGB)\n",
    "    \"\"\"\n",
    "    pre process some tings\n",
    "    \"\"\"\n",
    "\n",
    "    return pre_image"
   ]
  },
  {
   "cell_type": "code",
   "execution_count": 143,
   "metadata": {},
   "outputs": [],
   "source": [
    "image = preprocess_image(image)"
   ]
  },
  {
   "cell_type": "code",
   "execution_count": null,
   "metadata": {},
   "outputs": [],
   "source": [
    "print(\"Preprocessed Image\")\n",
    "display_image(pre_image)"
   ]
  },
  {
   "cell_type": "markdown",
   "metadata": {},
   "source": [
    "#### (ii) TEXT RECOGNITION"
   ]
  },
  {
   "cell_type": "code",
   "execution_count": null,
   "metadata": {},
   "outputs": [],
   "source": [
    "ocr = PaddleOCR(use_angle_cls=True, lang='en')"
   ]
  },
  {
   "cell_type": "code",
   "execution_count": 145,
   "metadata": {},
   "outputs": [],
   "source": [
    "def get_ocr(image_array):\n",
    "    return ocr.ocr(pre_image)"
   ]
  },
  {
   "cell_type": "code",
   "execution_count": 146,
   "metadata": {},
   "outputs": [],
   "source": [
    "def show_ocr(result):\n",
    "    boxes = [item[0] for item in result[0]]\n",
    "    texts = [item[1][0] for item in result[0]]\n",
    "    scores = [item[1][1] for item in result[0]]\n",
    "\n",
    "    im_show = draw_ocr(image, boxes, texts, scores, font_path=\"fonts/latin.ttf\")\n",
    "    display_image(im_show)"
   ]
  },
  {
   "cell_type": "code",
   "execution_count": null,
   "metadata": {},
   "outputs": [],
   "source": [
    "result = ocr.ocr(pre_image)"
   ]
  },
  {
   "cell_type": "code",
   "execution_count": null,
   "metadata": {},
   "outputs": [],
   "source": [
    "print(\"OCR Output:\")\n",
    "show_ocr(result)"
   ]
  },
  {
   "cell_type": "markdown",
   "metadata": {},
   "source": [
    "#### (iii) POST PROCESSING"
   ]
  },
  {
   "cell_type": "code",
   "execution_count": 134,
   "metadata": {},
   "outputs": [],
   "source": [
    "def extract(result):\n",
    "    extracted_measurements = set()\n",
    "\n",
    "    for r in result[0]:\n",
    "        location, line = r\n",
    "        text = line[0]\n",
    "        # print(\"full text:\", text)\n",
    "\n",
    "        for unit in entity_unit_map[image_entity]:\n",
    "            for rep in unit_variations[unit]:\n",
    "                indices = find_all_indices(text, rep)\n",
    "\n",
    "                for index in indices:\n",
    "                    if index <= 0:\n",
    "                        continue\n",
    "\n",
    "                    numbers = [\"\"]\n",
    "                    reformat = text[:index].replace(' ', '')\n",
    "\n",
    "                    i = len(reformat) - 1\n",
    "\n",
    "                    while (i >= 0) and (reformat[i].isnumeric() or reformat[i] in ['-', '.', ',']):\n",
    "                        char = reformat[i]\n",
    "\n",
    "                        if char.isnumeric():\n",
    "                            numbers[-1] = char + numbers[-1]\n",
    "                        elif char in ['.', ',']:\n",
    "                            numbers[-1] = '.' + numbers[-1]\n",
    "                        elif char in ['-']:\n",
    "                            numbers.append(\"\")\n",
    "\n",
    "                        i -= 1\n",
    "\n",
    "                    discard_rule = lambda x: len(x.strip().replace('.', '')) > 0\n",
    "                    print(numbers)\n",
    "                    numbers = filter(discard_rule, numbers)\n",
    "                    numbers = sorted(list(map(lambda x: float(x), numbers)))\n",
    "\n",
    "                    if len(numbers) == 0:\n",
    "                        continue\n",
    "\n",
    "                    measurement = f\"[{numbers[0]}, {numbers[1]}] {unit}\" if len(numbers) > 1 else f\"{numbers[0]} {unit}\"\n",
    "                    extracted_measurements.add(measurement)\n",
    "\n",
    "    return extracted_measurements"
   ]
  },
  {
   "cell_type": "markdown",
   "metadata": {},
   "source": [
    "### 3. VALIDATION"
   ]
  },
  {
   "cell_type": "code",
   "execution_count": 5,
   "metadata": {},
   "outputs": [],
   "source": [
    "import pandas as pd"
   ]
  },
  {
   "cell_type": "code",
   "execution_count": 12,
   "metadata": {},
   "outputs": [],
   "source": [
    "from IPython.display import clear_output"
   ]
  },
  {
   "cell_type": "code",
   "execution_count": 6,
   "metadata": {},
   "outputs": [],
   "source": [
    "image_folder = \"data/train_images\"\n",
    "validation_path = \"data/downloaded_train.csv\""
   ]
  },
  {
   "cell_type": "code",
   "execution_count": 7,
   "metadata": {},
   "outputs": [],
   "source": [
    "validation = pd.read_csv(validation_path)"
   ]
  },
  {
   "cell_type": "code",
   "execution_count": 13,
   "metadata": {},
   "outputs": [
    {
     "name": "stdout",
     "output_type": "stream",
     "text": [
      "image_link      https://m.media-amazon.com/images/I/DzP2RMRQO0...\n",
      "group_id                                                   898898\n",
      "entity_name                                           item_weight\n",
      "entity_value                                       100.0 kilogram\n",
      "downloaded                                                  False\n",
      "Name: 7754, dtype: object\n"
     ]
    }
   ],
   "source": [
    "for index, row in validation.iterrows():\n",
    "    if not row[\"downloaded\"]:\n",
    "        print(row)\n",
    "\n",
    "        \"\"\"\n",
    "        prediction\n",
    "        \"\"\"\n",
    "\n",
    "        clear_output(wait = True)"
   ]
  },
  {
   "cell_type": "code",
   "execution_count": null,
   "metadata": {},
   "outputs": [],
   "source": []
  }
 ],
 "metadata": {
  "kernelspec": {
   "display_name": "rainforest",
   "language": "python",
   "name": "python3"
  },
  "language_info": {
   "codemirror_mode": {
    "name": "ipython",
    "version": 3
   },
   "file_extension": ".py",
   "mimetype": "text/x-python",
   "name": "python",
   "nbconvert_exporter": "python",
   "pygments_lexer": "ipython3",
   "version": "3.10.14"
  }
 },
 "nbformat": 4,
 "nbformat_minor": 2
}
